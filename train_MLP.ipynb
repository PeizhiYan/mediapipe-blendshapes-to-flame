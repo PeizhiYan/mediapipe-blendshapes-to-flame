{
 "cells": [
  {
   "cell_type": "markdown",
   "metadata": {},
   "source": [
    "We train an MLP network that maps FLAME expression coefficients to a lower dimension space.\n",
    "\n",
    "This MLP is used in Gausssian-dejavu v1.1 Demo "
   ]
  },
  {
   "cell_type": "code",
   "execution_count": 6,
   "metadata": {},
   "outputs": [
    {
     "name": "stdout",
     "output_type": "stream",
     "text": [
      "(13962, 52)\n",
      "(13962, 100)\n",
      "(13962, 6)\n",
      "(13962, 6)\n",
      "torch.Size([64, 53])\n"
     ]
    }
   ],
   "source": [
    "import numpy as np\n",
    "import os\n",
    "from tqdm import tqdm\n",
    "import matplotlib.pyplot as plt\n",
    "\n",
    "# Load the data arrays from the saved .npy files\n",
    "data_blendshapes = np.load('./data/data_blendshapes.npy')\n",
    "data_exp = np.load('./data/data_exp.npy')\n",
    "data_pose = np.load('./data/data_pose.npy')\n",
    "data_eye_pose = np.load('./data/data_eye_pose.npy')\n",
    "\n",
    "print(data_blendshapes.shape)\n",
    "print(data_exp.shape)\n",
    "print(data_pose.shape)\n",
    "print(data_eye_pose.shape)\n",
    "\n",
    "\n",
    "\n",
    "import torch\n",
    "import torch.nn as nn\n",
    "import torch.nn.functional as F\n",
    "from torch.optim.lr_scheduler import StepLR\n",
    "\n",
    "class MLP(nn.Module):\n",
    "    def __init__(self, input_size, hidden_size, output_size):\n",
    "        super(MLP, self).__init__()\n",
    "        \n",
    "        # Define layers\n",
    "        self.fc1 = nn.Linear(input_size, hidden_size)\n",
    "        self.fc2 = nn.Linear(hidden_size, hidden_size)\n",
    "        self.fc3 = nn.Linear(hidden_size, output_size)\n",
    "\n",
    "    def forward(self, x):\n",
    "        # Forward pass through layers with ReLU activations\n",
    "        x = F.relu(self.fc1(x))\n",
    "        x = F.relu(self.fc2(x))\n",
    "        x = self.fc3(x)\n",
    "        return x\n",
    "\n",
    "device = \"cuda:0\"\n",
    "\n",
    "num_expressions = 10\n",
    "mlp = MLP(input_size=50+3, hidden_size=50, output_size=num_expressions).to(device) # map 52 blendshapes to 10 expressions\n",
    "\n",
    "# map blending weights back to expression coefficients (for training only)\n",
    "reverse_mlp = MLP(input_size=num_expressions, hidden_size=50, output_size=50+3).to(device)\n",
    "\n",
    "\n",
    "class DataLoader:\n",
    "    def __init__(self, data_exp, data_pose, batch_size):\n",
    "        with torch.no_grad():\n",
    "            self.data_exp = torch.tensor(data_exp[:,:50], dtype=torch.float32).to(device)\n",
    "            self.data_pose = torch.tensor(data_pose[:,3:], dtype=torch.float32).to(device)\n",
    "            self.data_exp_pose = torch.cat((self.data_exp, self.data_pose), dim=1) # [N, 53]\n",
    "        self.batch_size = batch_size\n",
    "        self.num_samples = self.data_exp_pose.shape[0]\n",
    "\n",
    "    def next_random_batch(self):\n",
    "        indices = torch.randint(0, self.num_samples, (self.batch_size,))\n",
    "        return self.data_exp_pose[indices]\n",
    "\n",
    "# Example usage\n",
    "batch_size = 64\n",
    "dataloader = DataLoader(data_exp, data_pose, batch_size)\n",
    "random_batch = dataloader.next_random_batch()\n",
    "print(random_batch.shape)  # Should print: torch.Size([32, 53])"
   ]
  },
  {
   "cell_type": "code",
   "execution_count": 7,
   "metadata": {},
   "outputs": [
    {
     "name": "stderr",
     "output_type": "stream",
     "text": [
      "Training MLP... Loss: 0.0246 LR: 0.0039: 100%|██████████| 10000/10000 [00:16<00:00, 605.25it/s]\n"
     ]
    }
   ],
   "source": [
    "learning_rate = 0.01\n",
    "total_steps = 10000\n",
    "\n",
    "mlp_params = list(mlp.parameters())\n",
    "reverse_mlp_params = list(reverse_mlp.parameters())\n",
    "optimizer = torch.optim.Adam(mlp_params + reverse_mlp_params, lr=learning_rate)\n",
    "scheduler = StepLR(optimizer, step_size=total_steps//10, gamma=0.9)\n",
    "\n",
    "# optimize\n",
    "pbar = tqdm(range(total_steps))\n",
    "for step in pbar:\n",
    "    with torch.no_grad():\n",
    "        # sample training data\n",
    "        random_batch = dataloader.next_random_batch() # [batch_size, 52]\n",
    "\n",
    "    # predict the blending weights\n",
    "    logits = mlp(random_batch) # [batch_size, 10]\n",
    "    blending_weights = F.softmax(logits, dim=1)\n",
    "\n",
    "    # reverse mapping blending weights to expression coefficients\n",
    "    pred = reverse_mlp(blending_weights)    # [N, 53]\n",
    "    # loss = torch.mean((exp_pred - batch_data['exp'][:,:50])**2) # [N, 50]\n",
    "    loss = torch.mean((pred - random_batch)**2) # [N, 53]\n",
    "\n",
    "    # display status\n",
    "    current_lr = scheduler.get_last_lr()[0]\n",
    "    pbar.set_description(f\"Training MLP... Loss: {loss.item():.4f} LR: {current_lr:.4f}\")\n",
    "\n",
    "    loss.backward()\n",
    "    optimizer.step()\n",
    "    optimizer.zero_grad() # clean gradient again\n",
    "    scheduler.step()\n"
   ]
  },
  {
   "cell_type": "code",
   "execution_count": 8,
   "metadata": {},
   "outputs": [],
   "source": [
    "# save the model\n",
    "torch.save(mlp.state_dict(), './mlp.pth')\n"
   ]
  },
  {
   "cell_type": "code",
   "execution_count": null,
   "metadata": {},
   "outputs": [],
   "source": []
  }
 ],
 "metadata": {
  "kernelspec": {
   "display_name": "tracker",
   "language": "python",
   "name": "python3"
  },
  "language_info": {
   "codemirror_mode": {
    "name": "ipython",
    "version": 3
   },
   "file_extension": ".py",
   "mimetype": "text/x-python",
   "name": "python",
   "nbconvert_exporter": "python",
   "pygments_lexer": "ipython3",
   "version": "3.10.14"
  }
 },
 "nbformat": 4,
 "nbformat_minor": 2
}
