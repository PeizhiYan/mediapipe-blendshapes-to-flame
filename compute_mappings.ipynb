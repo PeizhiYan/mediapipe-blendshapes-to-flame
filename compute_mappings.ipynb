{
 "cells": [
  {
   "cell_type": "code",
   "execution_count": 1,
   "metadata": {},
   "outputs": [
    {
     "name": "stdout",
     "output_type": "stream",
     "text": [
      "(22855, 52)\n",
      "(22855, 50)\n",
      "(22855, 6)\n",
      "(22855, 6)\n"
     ]
    }
   ],
   "source": [
    "import numpy as np\n",
    "import os\n",
    "from tqdm import tqdm\n",
    "import matplotlib.pyplot as plt\n",
    "\n",
    "# Load the data arrays from the saved .npy files\n",
    "data_blendshapes = np.load('./data/data_blendshapes.npy')\n",
    "data_exp = np.load('./data/data_exp.npy')\n",
    "data_pose = np.load('./data/data_pose.npy')\n",
    "data_eye_pose = np.load('./data/data_eye_pose.npy')\n",
    "\n",
    "print(data_blendshapes.shape)\n",
    "print(data_exp.shape)\n",
    "print(data_pose.shape)\n",
    "print(data_eye_pose.shape)"
   ]
  },
  {
   "cell_type": "code",
   "execution_count": null,
   "metadata": {},
   "outputs": [],
   "source": [
    "# # Assuming data_blendshapes is an [N, 52] numpy array\n",
    "# # Calculate the mean and standard deviation for each column\n",
    "# means = np.mean(data_blendshapes, axis=0)\n",
    "# stds = np.std(data_blendshapes, axis=0)\n",
    "\n",
    "# # Perform z-score normalization\n",
    "# data_blendshapes_normalized = (data_blendshapes - means) / stds\n",
    "\n",
    "# Compute the pseudo-inverse of the blendshape scores data matrix\n",
    "B_pinv = np.linalg.pinv(data_blendshapes)\n",
    "\n",
    "# Compute the mappings\n",
    "bs2exp = B_pinv @ data_exp\n",
    "bs2pose = B_pinv @ data_pose\n",
    "bs2eye = B_pinv @ data_eye_pose\n"
   ]
  },
  {
   "cell_type": "code",
   "execution_count": 12,
   "metadata": {},
   "outputs": [],
   "source": [
    "from sklearn.linear_model import Ridge\n",
    "\n",
    "# Initialize Ridge regression with a small alpha (regularization parameter)\n",
    "ridge_exp = Ridge(alpha=0.1)\n",
    "ridge_pose = Ridge(alpha=0.1)\n",
    "ridge_eye = Ridge(alpha=0.1)\n",
    "\n",
    "# Fit the ridge models\n",
    "ridge_exp.fit(data_blendshapes, data_exp)\n",
    "ridge_pose.fit(data_blendshapes, data_pose)\n",
    "ridge_eye.fit(data_blendshapes, data_eye_pose)\n",
    "\n",
    "# Extract the mappings\n",
    "bs2exp = ridge_exp.coef_.T\n",
    "bs2pose = ridge_pose.coef_.T\n",
    "bs2eye = ridge_eye.coef_.T"
   ]
  },
  {
   "cell_type": "code",
   "execution_count": 14,
   "metadata": {},
   "outputs": [],
   "source": [
    "# Save the mappings\n",
    "np.save('./mappings/bs2exp.npy', bs2exp)\n",
    "np.save('./mappings/bs2pose.npy', bs2pose)\n",
    "np.save('./mappings/bs2eye.npy', bs2eye)\n"
   ]
  },
  {
   "cell_type": "code",
   "execution_count": 13,
   "metadata": {},
   "outputs": [
    {
     "data": {
      "text/plain": [
       "<matplotlib.image.AxesImage at 0x7f42a03db2b0>"
      ]
     },
     "execution_count": 13,
     "metadata": {},
     "output_type": "execute_result"
    },
    {
     "data": {
      "image/png": "[encoded data removed]",
      "text/plain": [
       "<Figure size 640x480 with 1 Axes>"
      ]
     },
     "metadata": {},
     "output_type": "display_data"
    }
   ],
   "source": [
    "plt.imshow(bs2exp)"
   ]
  },
  {
   "cell_type": "code",
   "execution_count": null,
   "metadata": {},
   "outputs": [],
   "source": []
  }
 ],
 "metadata": {
  "kernelspec": {
   "display_name": "tracker",
   "language": "python",
   "name": "python3"
  },
  "language_info": {
   "codemirror_mode": {
    "name": "ipython",
    "version": 3
   },
   "file_extension": ".py",
   "mimetype": "text/x-python",
   "name": "python",
   "nbconvert_exporter": "python",
   "pygments_lexer": "ipython3",
   "version": "3.10.14"
  }
 },
 "nbformat": 4,
 "nbformat_minor": 2
}
